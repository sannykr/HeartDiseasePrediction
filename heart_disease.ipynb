{
 "cells": [
  {
   "cell_type": "code",
   "execution_count": 28,
   "metadata": {},
   "outputs": [
    {
     "name": "stdout",
     "output_type": "stream",
     "text": [
      "Library added\n"
     ]
    }
   ],
   "source": [
    "import numpy as np\n",
    "import pandas as pd\n",
    "import matplotlib.pyplot as plt\n",
    "import seaborn as sns\n",
    "from dateutil import parser\n",
    "%matplotlib inline\n",
    "\n",
    "from sklearn.model_selection import train_test_split\n",
    "\n",
    "from sklearn.preprocessing import StandardScaler\n",
    "from sklearn.svm import SVC\n",
    "from xgboost import XGBClassifier\n",
    "from sklearn.ensemble import RandomForestClassifier\n",
    "\n",
    "from sklearn.linear_model import LogisticRegression\n",
    "from sklearn.metrics import confusion_matrix, classification_report, accuracy_score\n",
    "from sklearn.model_selection import GridSearchCV\n",
    "import pickle\n",
    "from lightgbm import LGBMClassifier\n",
    "print('Library added')"
   ]
  },
  {
   "cell_type": "code",
   "execution_count": 29,
   "metadata": {},
   "outputs": [],
   "source": [
    "data = 'data.csv'"
   ]
  },
  {
   "cell_type": "code",
   "execution_count": 30,
   "metadata": {},
   "outputs": [
    {
     "data": {
      "text/plain": [
       "(303, 14)"
      ]
     },
     "execution_count": 30,
     "metadata": {},
     "output_type": "execute_result"
    }
   ],
   "source": [
    "df = pd.read_csv(data)\n",
    "df.shape"
   ]
  },
  {
   "cell_type": "code",
   "execution_count": 31,
   "metadata": {},
   "outputs": [
    {
     "data": {
      "text/plain": [
       "age         0\n",
       "sex         0\n",
       "cp          0\n",
       "trestbps    0\n",
       "chol        0\n",
       "fbs         0\n",
       "restecg     0\n",
       "thalach     0\n",
       "exang       0\n",
       "oldpeak     0\n",
       "slope       0\n",
       "ca          0\n",
       "thal        0\n",
       "target      0\n",
       "dtype: int64"
      ]
     },
     "execution_count": 31,
     "metadata": {},
     "output_type": "execute_result"
    }
   ],
   "source": [
    "df.isnull().sum()"
   ]
  },
  {
   "cell_type": "code",
   "execution_count": 32,
   "metadata": {},
   "outputs": [
    {
     "data": {
      "text/plain": [
       "Index(['age', 'sex', 'cp', 'trestbps', 'chol', 'fbs', 'restecg', 'thalach',\n",
       "       'exang', 'oldpeak', 'slope', 'ca', 'thal', 'target'],\n",
       "      dtype='object')"
      ]
     },
     "execution_count": 32,
     "metadata": {},
     "output_type": "execute_result"
    }
   ],
   "source": [
    "cols = df.columns\n",
    "cols"
   ]
  },
  {
   "cell_type": "code",
   "execution_count": 33,
   "metadata": {},
   "outputs": [
    {
     "name": "stdout",
     "output_type": "stream",
     "text": [
      "# rows in dataset 303\n",
      "----------------------------------------\n",
      "# rows in age with zero values: 0\n",
      "# rows in sex with zero values: 96\n",
      "# rows in cp with zero values: 143\n",
      "# rows in trestbps with zero values: 0\n",
      "# rows in chol with zero values: 0\n",
      "# rows in fbs with zero values: 258\n",
      "# rows in restecg with zero values: 147\n",
      "# rows in thalach with zero values: 0\n",
      "# rows in exang with zero values: 204\n",
      "# rows in oldpeak with zero values: 99\n",
      "# rows in slope with zero values: 21\n",
      "# rows in ca with zero values: 175\n",
      "# rows in thal with zero values: 2\n",
      "# rows in target with zero values: 138\n"
     ]
    }
   ],
   "source": [
    "print(\"# rows in dataset {0}\".format(len(df)))\n",
    "print(\"----------------------------------------\")\n",
    "\n",
    "for col in cols:\n",
    "    print(\"# rows in {1} with zero values: {0}\".format(len(df.loc[df[col] == 0]), col))"
   ]
  },
  {
   "cell_type": "code",
   "execution_count": 34,
   "metadata": {},
   "outputs": [
    {
     "data": {
      "text/plain": [
       "['cp',\n",
       " 'trestbps',\n",
       " 'chol',\n",
       " 'fbs',\n",
       " 'restecg',\n",
       " 'thalach',\n",
       " 'exang',\n",
       " 'oldpeak',\n",
       " 'slope',\n",
       " 'ca',\n",
       " 'thal']"
      ]
     },
     "execution_count": 34,
     "metadata": {},
     "output_type": "execute_result"
    }
   ],
   "source": [
    "final_cols=cols\n",
    "final_cols=list(final_cols)\n",
    "final_cols.remove('sex')\n",
    "final_cols.remove('target')\n",
    "final_cols.remove('age')\n",
    "final_cols"
   ]
  },
  {
   "cell_type": "markdown",
   "metadata": {},
   "source": [
    "# Feature engineering"
   ]
  },
  {
   "cell_type": "code",
   "execution_count": 35,
   "metadata": {},
   "outputs": [
    {
     "data": {
      "text/plain": [
       "1    165\n",
       "0    138\n",
       "Name: target, dtype: int64"
      ]
     },
     "execution_count": 35,
     "metadata": {},
     "output_type": "execute_result"
    }
   ],
   "source": [
    "df.target.value_counts()"
   ]
  },
  {
   "cell_type": "code",
   "execution_count": 44,
   "metadata": {},
   "outputs": [
    {
     "name": "stdout",
     "output_type": "stream",
     "text": [
      "     age  sex  cp  trestbps  chol  fbs  restecg  thalach  exang   oldpeak  \\\n",
      "0     63    1   3       145   233    1        0      150      0  2.300000   \n",
      "1     37    1   2       130   250    0        1      187      0  3.500000   \n",
      "2     41    0   1       130   204    0        0      172      0  1.400000   \n",
      "3     56    1   1       120   236    0        1      178      0  0.800000   \n",
      "4     57    0   0       120   354    0        1      163      1  0.600000   \n",
      "..   ...  ...  ..       ...   ...  ...      ...      ...    ...       ...   \n",
      "325   63    1   0       143   210    0        0      133      0  1.975897   \n",
      "326   61    0   0       175   256    0        0      145      1  0.506778   \n",
      "327   58    0   0       139   374    0        0      140      0  2.292009   \n",
      "328   54    1   0       127   254    0        1      161      0  0.033361   \n",
      "329   57    1   0       128   258    0        0      132      1  2.583925   \n",
      "\n",
      "     slope  ca  thal  target  \n",
      "0        0   0     1       1  \n",
      "1        0   0     2       1  \n",
      "2        2   0     2       1  \n",
      "3        2   0     2       1  \n",
      "4        2   0     2       1  \n",
      "..     ...  ..   ...     ...  \n",
      "325      1   1     1       0  \n",
      "326      1   0     2       0  \n",
      "327      1   1     3       0  \n",
      "328      1   1     3       0  \n",
      "329      1   1     2       0  \n",
      "\n",
      "[330 rows x 14 columns]\n"
     ]
    }
   ],
   "source": [
    "X = df\n",
    "y = df.target\n",
    "\n",
    "from imblearn.over_sampling import SMOTE\n",
    "sm = SMOTE(random_state=42)\n",
    "X_res_OS, Y_res_OS = sm.fit_resample(X, y)\n",
    "print(X_res_OS)\n",
    "\n",
    "X_train, X_test, y_train, y_test = train_test_split(X_res_OS[final_cols], Y_res_OS, test_size=.1, random_state=10)"
   ]
  },
  {
   "cell_type": "code",
   "execution_count": 37,
   "metadata": {},
   "outputs": [
    {
     "data": {
      "text/plain": [
       "1    165\n",
       "0    165\n",
       "Name: target, dtype: int64"
      ]
     },
     "execution_count": 37,
     "metadata": {},
     "output_type": "execute_result"
    }
   ],
   "source": [
    "Y_res_OS.value_counts()"
   ]
  },
  {
   "cell_type": "code",
   "execution_count": 38,
   "metadata": {},
   "outputs": [],
   "source": [
    "# from sklearn.preprocessing import Imputer\n",
    "from sklearn.impute import SimpleImputer\n",
    "fill = SimpleImputer(missing_values = 0, strategy='mean')\n",
    "\n",
    "X_train = fill.fit_transform(X_train)\n",
    "X_test = fill.fit_transform(X_test)"
   ]
  },
  {
   "cell_type": "code",
   "execution_count": 39,
   "metadata": {},
   "outputs": [],
   "source": [
    "def FitModel(X_train, y_train, X_test, y_test, algo_name, algorithm, gridSearchParams, cv):\n",
    "    \n",
    "    np.random.seed(10)\n",
    "    \n",
    "    grid = GridSearchCV(\n",
    "        estimator=algorithm,\n",
    "        param_grid=gridSearchParams,\n",
    "        cv=cv, scoring='accuracy', verbose=1, n_jobs=-1\n",
    "    )\n",
    "    \n",
    "    grid_result = grid.fit(X_train, y_train)\n",
    "    best_params = grid_result.best_params_\n",
    "    pred = grid_result.predict(X_test)\n",
    "    cm = confusion_matrix(y_test, pred)\n",
    "    \n",
    "    print(pred)\n",
    "    pickle.dump(grid_result, open(algo_name, 'wb'))\n",
    "    \n",
    "    print('Best Params :', best_params)\n",
    "    print('Classification Report', classification_report(y_test, pred))\n",
    "    print('Accuracy Score', str(accuracy_score(y_test, pred)))\n",
    "    print('Confusion Matrix: \\n', cm)"
   ]
  },
  {
   "cell_type": "markdown",
   "metadata": {},
   "source": [
    "# Logistic Regression"
   ]
  },
  {
   "cell_type": "code",
   "execution_count": 40,
   "metadata": {},
   "outputs": [
    {
     "name": "stdout",
     "output_type": "stream",
     "text": [
      "Fitting 5 folds for each of 20 candidates, totalling 100 fits\n"
     ]
    },
    {
     "name": "stderr",
     "output_type": "stream",
     "text": [
      "[Parallel(n_jobs=-1)]: Using backend LokyBackend with 4 concurrent workers.\n"
     ]
    },
    {
     "name": "stdout",
     "output_type": "stream",
     "text": [
      "[1 1 0 0 0 1 1 1 1 0 1 0 0 0 0 0 1 0 0 1 0 1 1 0 0 0 1 0 0 1 1 0 1]\n",
      "Best Params : {'C': 1.0, 'penalty': 'l2'}\n",
      "Classification Report               precision    recall  f1-score   support\n",
      "\n",
      "           0       0.61      0.85      0.71        13\n",
      "           1       0.87      0.65      0.74        20\n",
      "\n",
      "    accuracy                           0.73        33\n",
      "   macro avg       0.74      0.75      0.73        33\n",
      "weighted avg       0.77      0.73      0.73        33\n",
      "\n",
      "Accuracy Score 0.7272727272727273\n",
      "Confusion Matrix: \n",
      " [[11  2]\n",
      " [ 7 13]]\n"
     ]
    },
    {
     "name": "stderr",
     "output_type": "stream",
     "text": [
      "[Parallel(n_jobs=-1)]: Done 100 out of 100 | elapsed:    1.3s finished\n",
      "/Users/sannykumar/Desktop/cosmicML/env/lib/python3.7/site-packages/sklearn/linear_model/_logistic.py:940: ConvergenceWarning: lbfgs failed to converge (status=1):\n",
      "STOP: TOTAL NO. of ITERATIONS REACHED LIMIT.\n",
      "\n",
      "Increase the number of iterations (max_iter) or scale the data as shown in:\n",
      "    https://scikit-learn.org/stable/modules/preprocessing.html\n",
      "Please also refer to the documentation for alternative solver options:\n",
      "    https://scikit-learn.org/stable/modules/linear_model.html#logistic-regression\n",
      "  extra_warning_msg=_LOGISTIC_SOLVER_CONVERGENCE_MSG)\n"
     ]
    }
   ],
   "source": [
    "penalty = ['l1', 'l2']\n",
    "\n",
    "C = np.logspace(0, 4, 10)\n",
    "\n",
    "hyperparameters = dict(C=C, penalty=penalty)\n",
    "\n",
    "FitModel(X_train, y_train, X_test, y_test, 'LogisticRegression', LogisticRegression(), hyperparameters, cv=5)"
   ]
  },
  {
   "cell_type": "markdown",
   "metadata": {},
   "source": [
    "# Xgboost"
   ]
  },
  {
   "cell_type": "code",
   "execution_count": 41,
   "metadata": {},
   "outputs": [
    {
     "name": "stdout",
     "output_type": "stream",
     "text": [
      "Fitting 5 folds for each of 270 candidates, totalling 1350 fits\n"
     ]
    },
    {
     "name": "stderr",
     "output_type": "stream",
     "text": [
      "[Parallel(n_jobs=-1)]: Using backend LokyBackend with 4 concurrent workers.\n",
      "[Parallel(n_jobs=-1)]: Done  58 tasks      | elapsed:   10.4s\n",
      "[Parallel(n_jobs=-1)]: Done 208 tasks      | elapsed:   48.8s\n",
      "[Parallel(n_jobs=-1)]: Done 458 tasks      | elapsed:  1.7min\n",
      "[Parallel(n_jobs=-1)]: Done 808 tasks      | elapsed:  2.9min\n",
      "[Parallel(n_jobs=-1)]: Done 1258 tasks      | elapsed:  4.2min\n"
     ]
    },
    {
     "name": "stdout",
     "output_type": "stream",
     "text": [
      "[1 1 1 0 1 1 0 0 1 0 1 0 0 0 0 1 1 0 1 1 0 1 1 0 1 1 1 0 0 1 1 1 1]\n",
      "Best Params : {'learning_rate': 0.02, 'max_depth': 2, 'n_estimators': 100}\n",
      "Classification Report               precision    recall  f1-score   support\n",
      "\n",
      "           0       0.92      0.92      0.92        13\n",
      "           1       0.95      0.95      0.95        20\n",
      "\n",
      "    accuracy                           0.94        33\n",
      "   macro avg       0.94      0.94      0.94        33\n",
      "weighted avg       0.94      0.94      0.94        33\n",
      "\n",
      "Accuracy Score 0.9393939393939394\n",
      "Confusion Matrix: \n",
      " [[12  1]\n",
      " [ 1 19]]\n"
     ]
    },
    {
     "name": "stderr",
     "output_type": "stream",
     "text": [
      "[Parallel(n_jobs=-1)]: Done 1350 out of 1350 | elapsed:  4.4min finished\n"
     ]
    }
   ],
   "source": [
    "param = {\n",
    "    'n_estimators': [100, 500, 1000, 1500, 2000],\n",
    "    'max_depth': [2, 3, 4, 5, 6, 7],\n",
    "    'learning_rate': np.arange(0.01, 0.1, 0.01).tolist()\n",
    "}\n",
    "\n",
    "FitModel(X_train, y_train, X_test, y_test, 'XGBoost', XGBClassifier(), param, cv=5)"
   ]
  },
  {
   "cell_type": "markdown",
   "metadata": {},
   "source": [
    "# Random Forest"
   ]
  },
  {
   "cell_type": "code",
   "execution_count": 42,
   "metadata": {},
   "outputs": [
    {
     "name": "stdout",
     "output_type": "stream",
     "text": [
      "Fitting 5 folds for each of 30 candidates, totalling 150 fits\n"
     ]
    },
    {
     "name": "stderr",
     "output_type": "stream",
     "text": [
      "[Parallel(n_jobs=-1)]: Using backend LokyBackend with 4 concurrent workers.\n",
      "[Parallel(n_jobs=-1)]: Done  42 tasks      | elapsed:  1.5min\n",
      "[Parallel(n_jobs=-1)]: Done 150 out of 150 | elapsed:  6.3min finished\n"
     ]
    },
    {
     "name": "stdout",
     "output_type": "stream",
     "text": [
      "[1 1 1 0 1 1 0 1 1 0 1 0 0 0 0 1 1 0 0 1 0 1 1 1 1 1 1 0 0 1 1 1 1]\n",
      "Best Params : {'max_depth': 4, 'n_estimators': 100}\n",
      "Classification Report               precision    recall  f1-score   support\n",
      "\n",
      "           0       0.83      0.77      0.80        13\n",
      "           1       0.86      0.90      0.88        20\n",
      "\n",
      "    accuracy                           0.85        33\n",
      "   macro avg       0.85      0.83      0.84        33\n",
      "weighted avg       0.85      0.85      0.85        33\n",
      "\n",
      "Accuracy Score 0.8484848484848485\n",
      "Confusion Matrix: \n",
      " [[10  3]\n",
      " [ 2 18]]\n"
     ]
    }
   ],
   "source": [
    "param = {\n",
    "    'n_estimators': [100, 500, 1000, 1500, 2000],\n",
    "    'max_depth': [2,3,4,5,6,7],\n",
    "}\n",
    "FitModel(X_train, y_train, X_test, y_test, 'Random Forest', RandomForestClassifier(), param, cv=5)"
   ]
  },
  {
   "cell_type": "markdown",
   "metadata": {},
   "source": [
    "# SVC"
   ]
  },
  {
   "cell_type": "code",
   "execution_count": 26,
   "metadata": {},
   "outputs": [
    {
     "name": "stdout",
     "output_type": "stream",
     "text": [
      "Fitting 5 folds for each of 28 candidates, totalling 140 fits\n"
     ]
    },
    {
     "name": "stderr",
     "output_type": "stream",
     "text": [
      "[Parallel(n_jobs=-1)]: Using backend LokyBackend with 4 concurrent workers.\n",
      "[Parallel(n_jobs=-1)]: Done  56 tasks      | elapsed:    3.2s\n"
     ]
    },
    {
     "name": "stdout",
     "output_type": "stream",
     "text": [
      "[1 1 1 0 1 1 0 0 1 0 1 0 0 0 0 1 0 0 1 1 0 1 1 1 0 0 1 0 0 1 1 1 1]\n",
      "Best Params : {'C': 100, 'gamma': 0.0001}\n",
      "Classification Report               precision    recall  f1-score   support\n",
      "\n",
      "           0       0.80      0.92      0.86        13\n",
      "           1       0.94      0.85      0.89        20\n",
      "\n",
      "    accuracy                           0.88        33\n",
      "   macro avg       0.87      0.89      0.88        33\n",
      "weighted avg       0.89      0.88      0.88        33\n",
      "\n",
      "Accuracy Score 0.8787878787878788\n",
      "Confusion Matrix: \n",
      " [[12  1]\n",
      " [ 3 17]]\n"
     ]
    },
    {
     "name": "stderr",
     "output_type": "stream",
     "text": [
      "[Parallel(n_jobs=-1)]: Done 140 out of 140 | elapsed:    3.7s finished\n"
     ]
    }
   ],
   "source": [
    "param = {\n",
    "    'C': [0.1, 1, 100, 1000],\n",
    "    'gamma': [0.0001, 0.001, 0.005, 0.1, 1, 3, 5]\n",
    "}\n",
    "\n",
    "FitModel(X_train, y_train, X_test, y_test, 'SVC', SVC(), param, cv=5)"
   ]
  },
  {
   "cell_type": "code",
   "execution_count": 43,
   "metadata": {},
   "outputs": [
    {
     "ename": "AttributeError",
     "evalue": "'numpy.ndarray' object has no attribute 'cols'",
     "output_type": "error",
     "traceback": [
      "\u001b[0;31m---------------------------------------------------------------------------\u001b[0m",
      "\u001b[0;31mAttributeError\u001b[0m                            Traceback (most recent call last)",
      "\u001b[0;32m<ipython-input-43-82f9f6a4bfea>\u001b[0m in \u001b[0;36m<module>\u001b[0;34m\u001b[0m\n\u001b[0;32m----> 1\u001b[0;31m \u001b[0mX_train\u001b[0m\u001b[0;34m.\u001b[0m\u001b[0mcols\u001b[0m\u001b[0;34m\u001b[0m\u001b[0;34m\u001b[0m\u001b[0m\n\u001b[0m",
      "\u001b[0;31mAttributeError\u001b[0m: 'numpy.ndarray' object has no attribute 'cols'"
     ]
    }
   ],
   "source": []
  },
  {
   "cell_type": "code",
   "execution_count": null,
   "metadata": {},
   "outputs": [],
   "source": []
  }
 ],
 "metadata": {
  "kernelspec": {
   "display_name": "Python 3",
   "language": "python",
   "name": "python3"
  },
  "language_info": {
   "codemirror_mode": {
    "name": "ipython",
    "version": 3
   },
   "file_extension": ".py",
   "mimetype": "text/x-python",
   "name": "python",
   "nbconvert_exporter": "python",
   "pygments_lexer": "ipython3",
   "version": "3.7.6"
  }
 },
 "nbformat": 4,
 "nbformat_minor": 4
}
